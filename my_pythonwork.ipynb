{
 "cells": [
  {
   "cell_type": "code",
   "execution_count": 2,
   "id": "f111cf7e-b1fc-46ec-acea-e982734d3ce5",
   "metadata": {},
   "outputs": [],
   "source": [
    "#starting with the basics of python \n",
    "\n",
    "m = 6\n",
    "n = 9\n"
   ]
  },
  {
   "cell_type": "code",
   "execution_count": 3,
   "id": "a0ef38de-b12b-40e2-a5cd-a372113b00ae",
   "metadata": {},
   "outputs": [
    {
     "name": "stdout",
     "output_type": "stream",
     "text": [
      "15\n"
     ]
    }
   ],
   "source": [
    "o = m + n\n",
    "print(o)"
   ]
  },
  {
   "cell_type": "code",
   "execution_count": 4,
   "id": "dbc2e730-3ed1-451a-a0f9-d0ec6bde1b37",
   "metadata": {},
   "outputs": [
    {
     "name": "stdout",
     "output_type": "stream",
     "text": [
      "Mehvishshaikh\n"
     ]
    }
   ],
   "source": [
    "firstname = \"Mehvish\"\n",
    "lastname = \"shaikh\"\n",
    "\n",
    "fullname =  firstname  +  lastname  \n",
    "print(fullname)\n",
    "#variable names cant be started with numbers\n",
    "# numbers can be written at the  end"
   ]
  },
  {
   "cell_type": "code",
   "execution_count": 5,
   "id": "f8828f69-bfd4-4b90-829a-2b9d302bd86e",
   "metadata": {},
   "outputs": [
    {
     "name": "stdout",
     "output_type": "stream",
     "text": [
      "spinachapple\n"
     ]
    }
   ],
   "source": [
    "green_vegetable = \"spinach\"\n",
    "fresh_fruit = \"apple\"\n",
    "\n",
    "healthy_diet = green_vegetable + fresh_fruit \n",
    "print(healthy_diet)\n",
    "#you can use underscore in between \n",
    "#you cant leave space between it will lead to a syntax error \n",
    "#no special chachters (@,#,!,%,^,&)"
   ]
  },
  {
   "cell_type": "code",
   "execution_count": 6,
   "id": "cd740486-9aef-42dd-8579-18bc76902501",
   "metadata": {},
   "outputs": [
    {
     "name": "stdout",
     "output_type": "stream",
     "text": [
      "spinach apple\n"
     ]
    }
   ],
   "source": [
    "green_vegetable = \"spinach\"\n",
    "fresh_fruit = \"apple\"\n",
    "\n",
    "healthy_diet = green_vegetable + \" \" + fresh_fruit \n",
    "print(healthy_diet)\n",
    "#we can use empty strings to leave gap between two strings or statements"
   ]
  },
  {
   "cell_type": "code",
   "execution_count": null,
   "id": "dcc5c212-9f79-4232-b0e9-7eaf6c003716",
   "metadata": {},
   "outputs": [],
   "source": [
    "#introduction to data types in python\n",
    "1 . strings ==> str \n",
    "2 . Numbers ==> integers ---> int and float (decimals) (0.1,0.2,0.3)\n",
    "3 . lists ==> list\n",
    "4. tuples ==> tuple\n",
    "5 . dictionaries ==> dict "
   ]
  },
  {
   "cell_type": "code",
   "execution_count": null,
   "id": "8faf388f-0d20-4b7d-bdec-f93b574b2d31",
   "metadata": {},
   "outputs": [],
   "source": [
    "# classification of datatypes :\n",
    "\n",
    "data types are classified into 2 categories\n",
    "          mutable datatypes             |    immutable dataypes \n",
    " ---> which can be edited / alter later |--->which cannot be edited / alter later \n",
    "---> flexible in nature                 |--->fixed in nature / cannot be altered later "
   ]
  },
  {
   "cell_type": "code",
   "execution_count": 9,
   "id": "364e170c-8ea7-44aa-8a48-3bf1156bbca3",
   "metadata": {},
   "outputs": [
    {
     "ename": "SyntaxError",
     "evalue": "invalid syntax (358199077.py, line 2)",
     "output_type": "error",
     "traceback": [
      "\u001b[1;36m  Cell \u001b[1;32mIn[9], line 2\u001b[1;36m\u001b[0m\n\u001b[1;33m    *defination: a string is nothing but series of character declared in (\"\")quotes .\u001b[0m\n\u001b[1;37m               ^\u001b[0m\n\u001b[1;31mSyntaxError\u001b[0m\u001b[1;31m:\u001b[0m invalid syntax\n"
     ]
    }
   ],
   "source": [
    "#introduction to string datatypes \n",
    "*defination: a string is nothing but series of character declared in (\"\")quotes .\n",
    "*classified : it is classified in immutable data type\n",
    "\n",
    " *how do you define a string ? \n",
    "--> 1. single quote.\n",
    "--> 2. double qoutes.\n",
    "\n"
   ]
  },
  {
   "cell_type": "code",
   "execution_count": 11,
   "id": "7f759137-79de-4e79-a766-e00d2153fbc1",
   "metadata": {},
   "outputs": [
    {
     "name": "stdout",
     "output_type": "stream",
     "text": [
      "fayazsir\n"
     ]
    }
   ],
   "source": [
    "#examples\n",
    "name = \"fayazsir\" # double quotes \n",
    "print(name)"
   ]
  },
  {
   "cell_type": "code",
   "execution_count": 12,
   "id": "f6c303c2-f0db-48d9-a2fc-c6fa616203e9",
   "metadata": {},
   "outputs": [
    {
     "name": "stdout",
     "output_type": "stream",
     "text": [
      "mehvish\n"
     ]
    }
   ],
   "source": [
    "name_2 = 'mehvish' # single quote\n",
    "print(name_2)"
   ]
  },
  {
   "cell_type": "code",
   "execution_count": null,
   "id": "ae86632b-e01d-4bdd-9660-616cd9d53bfb",
   "metadata": {},
   "outputs": [],
   "source": [
    "#zen of python (tim peters)\n",
    "#guidelines for what exactly python is "
   ]
  },
  {
   "cell_type": "code",
   "execution_count": 13,
   "id": "41f7b50a-0671-432e-92c2-9c91478e9846",
   "metadata": {},
   "outputs": [
    {
     "name": "stdout",
     "output_type": "stream",
     "text": [
      "The Zen of Python, by Tim Peters\n",
      "\n",
      "Beautiful is better than ugly.\n",
      "Explicit is better than implicit.\n",
      "Simple is better than complex.\n",
      "Complex is better than complicated.\n",
      "Flat is better than nested.\n",
      "Sparse is better than dense.\n",
      "Readability counts.\n",
      "Special cases aren't special enough to break the rules.\n",
      "Although practicality beats purity.\n",
      "Errors should never pass silently.\n",
      "Unless explicitly silenced.\n",
      "In the face of ambiguity, refuse the temptation to guess.\n",
      "There should be one-- and preferably only one --obvious way to do it.\n",
      "Although that way may not be obvious at first unless you're Dutch.\n",
      "Now is better than never.\n",
      "Although never is often better than *right* now.\n",
      "If the implementation is hard to explain, it's a bad idea.\n",
      "If the implementation is easy to explain, it may be a good idea.\n",
      "Namespaces are one honking great idea -- let's do more of those!\n"
     ]
    }
   ],
   "source": [
    " import this"
   ]
  },
  {
   "cell_type": "code",
   "execution_count": null,
   "id": "74d522ff-a29a-4fd3-bec8-740c5a293126",
   "metadata": {},
   "outputs": [],
   "source": [
    "(#)#is used to comment things , python ignores the comments "
   ]
  }
 ],
 "metadata": {
  "kernelspec": {
   "display_name": "Python 3 (ipykernel)",
   "language": "python",
   "name": "python3"
  },
  "language_info": {
   "codemirror_mode": {
    "name": "ipython",
    "version": 3
   },
   "file_extension": ".py",
   "mimetype": "text/x-python",
   "name": "python",
   "nbconvert_exporter": "python",
   "pygments_lexer": "ipython3",
   "version": "3.13.5"
  }
 },
 "nbformat": 4,
 "nbformat_minor": 5
}
